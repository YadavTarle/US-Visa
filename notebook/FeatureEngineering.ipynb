{
 "cells": [
  {
   "cell_type": "markdown",
   "id": "9d8091ef-85a0-411f-a9f7-2d1353f8e85c",
   "metadata": {},
   "source": [
    "# Data Preprocessing"
   ]
  },
  {
   "cell_type": "markdown",
   "id": "aecc2929-76a1-4efd-8dc3-48e6a1b6fdd4",
   "metadata": {},
   "source": [
    "### Import required packages"
   ]
  },
  {
   "cell_type": "code",
   "execution_count": 1,
   "id": "d5333b74-ea1d-46d5-86ca-af3e6d13c6c3",
   "metadata": {},
   "outputs": [],
   "source": [
    "import numpy as np\n",
    "import pandas as pd\n",
    "import matplotlib.pyplot as plt\n",
    "import seaborn as sns\n",
    "import warnings\n",
    "warnings.filterwarnings('ignore')"
   ]
  },
  {
   "cell_type": "code",
   "execution_count": 2,
   "id": "32286151-1436-40a5-a8dd-403d15578b33",
   "metadata": {},
   "outputs": [],
   "source": [
    "pd.pandas.set_option(\"display.max_columns\", None)"
   ]
  },
  {
   "cell_type": "code",
   "execution_count": 3,
   "id": "8682f523-965e-4bfb-892e-00aa78a726c8",
   "metadata": {},
   "outputs": [
    {
     "data": {
      "text/html": [
       "<div>\n",
       "<style scoped>\n",
       "    .dataframe tbody tr th:only-of-type {\n",
       "        vertical-align: middle;\n",
       "    }\n",
       "\n",
       "    .dataframe tbody tr th {\n",
       "        vertical-align: top;\n",
       "    }\n",
       "\n",
       "    .dataframe thead th {\n",
       "        text-align: right;\n",
       "    }\n",
       "</style>\n",
       "<table border=\"1\" class=\"dataframe\">\n",
       "  <thead>\n",
       "    <tr style=\"text-align: right;\">\n",
       "      <th></th>\n",
       "      <th>case_id</th>\n",
       "      <th>continent</th>\n",
       "      <th>education_of_employee</th>\n",
       "      <th>has_job_experience</th>\n",
       "      <th>requires_job_training</th>\n",
       "      <th>no_of_employees</th>\n",
       "      <th>yr_of_estab</th>\n",
       "      <th>region_of_employment</th>\n",
       "      <th>prevailing_wage</th>\n",
       "      <th>unit_of_wage</th>\n",
       "      <th>full_time_position</th>\n",
       "      <th>case_status</th>\n",
       "    </tr>\n",
       "  </thead>\n",
       "  <tbody>\n",
       "    <tr>\n",
       "      <th>0</th>\n",
       "      <td>EZYV01</td>\n",
       "      <td>Asia</td>\n",
       "      <td>High School</td>\n",
       "      <td>N</td>\n",
       "      <td>N</td>\n",
       "      <td>14513</td>\n",
       "      <td>2007</td>\n",
       "      <td>West</td>\n",
       "      <td>592.2029</td>\n",
       "      <td>Hour</td>\n",
       "      <td>Y</td>\n",
       "      <td>Denied</td>\n",
       "    </tr>\n",
       "    <tr>\n",
       "      <th>1</th>\n",
       "      <td>EZYV02</td>\n",
       "      <td>Asia</td>\n",
       "      <td>Master's</td>\n",
       "      <td>Y</td>\n",
       "      <td>N</td>\n",
       "      <td>2412</td>\n",
       "      <td>2002</td>\n",
       "      <td>Northeast</td>\n",
       "      <td>83425.6500</td>\n",
       "      <td>Year</td>\n",
       "      <td>Y</td>\n",
       "      <td>Certified</td>\n",
       "    </tr>\n",
       "    <tr>\n",
       "      <th>2</th>\n",
       "      <td>EZYV03</td>\n",
       "      <td>Asia</td>\n",
       "      <td>Bachelor's</td>\n",
       "      <td>N</td>\n",
       "      <td>Y</td>\n",
       "      <td>44444</td>\n",
       "      <td>2008</td>\n",
       "      <td>West</td>\n",
       "      <td>122996.8600</td>\n",
       "      <td>Year</td>\n",
       "      <td>Y</td>\n",
       "      <td>Denied</td>\n",
       "    </tr>\n",
       "    <tr>\n",
       "      <th>3</th>\n",
       "      <td>EZYV04</td>\n",
       "      <td>Asia</td>\n",
       "      <td>Bachelor's</td>\n",
       "      <td>N</td>\n",
       "      <td>N</td>\n",
       "      <td>98</td>\n",
       "      <td>1897</td>\n",
       "      <td>West</td>\n",
       "      <td>83434.0300</td>\n",
       "      <td>Year</td>\n",
       "      <td>Y</td>\n",
       "      <td>Denied</td>\n",
       "    </tr>\n",
       "    <tr>\n",
       "      <th>4</th>\n",
       "      <td>EZYV05</td>\n",
       "      <td>Africa</td>\n",
       "      <td>Master's</td>\n",
       "      <td>Y</td>\n",
       "      <td>N</td>\n",
       "      <td>1082</td>\n",
       "      <td>2005</td>\n",
       "      <td>South</td>\n",
       "      <td>149907.3900</td>\n",
       "      <td>Year</td>\n",
       "      <td>Y</td>\n",
       "      <td>Certified</td>\n",
       "    </tr>\n",
       "  </tbody>\n",
       "</table>\n",
       "</div>"
      ],
      "text/plain": [
       "  case_id continent education_of_employee has_job_experience  \\\n",
       "0  EZYV01      Asia           High School                  N   \n",
       "1  EZYV02      Asia              Master's                  Y   \n",
       "2  EZYV03      Asia            Bachelor's                  N   \n",
       "3  EZYV04      Asia            Bachelor's                  N   \n",
       "4  EZYV05    Africa              Master's                  Y   \n",
       "\n",
       "  requires_job_training  no_of_employees  yr_of_estab region_of_employment  \\\n",
       "0                     N            14513         2007                 West   \n",
       "1                     N             2412         2002            Northeast   \n",
       "2                     Y            44444         2008                 West   \n",
       "3                     N               98         1897                 West   \n",
       "4                     N             1082         2005                South   \n",
       "\n",
       "   prevailing_wage unit_of_wage full_time_position case_status  \n",
       "0         592.2029         Hour                  Y      Denied  \n",
       "1       83425.6500         Year                  Y   Certified  \n",
       "2      122996.8600         Year                  Y      Denied  \n",
       "3       83434.0300         Year                  Y      Denied  \n",
       "4      149907.3900         Year                  Y   Certified  "
      ]
     },
     "execution_count": 3,
     "metadata": {},
     "output_type": "execute_result"
    }
   ],
   "source": [
    "df = pd.read_csv(r'dataset/EasyVisa.csv')\n",
    "df.head()"
   ]
  },
  {
   "cell_type": "code",
   "execution_count": 4,
   "id": "273b4dd7-b5b0-43a8-b3d3-1f97251c45dd",
   "metadata": {},
   "outputs": [
    {
     "data": {
      "text/plain": [
       "(25480, 12)"
      ]
     },
     "execution_count": 4,
     "metadata": {},
     "output_type": "execute_result"
    }
   ],
   "source": [
    "df.shape"
   ]
  },
  {
   "cell_type": "markdown",
   "id": "9a2616b2-0ea7-4661-bf0c-1d015f3053f9",
   "metadata": {},
   "source": [
    "## Data cleaning\n",
    "\n",
    "* Handling missing values\n",
    "* Handling duplicate values\n",
    "* Check datatype of columns"
   ]
  },
  {
   "cell_type": "markdown",
   "id": "b6bd0912-c191-4dd8-8d91-77d0dc8b5679",
   "metadata": {},
   "source": [
    "### 1.1 Check Null values"
   ]
  },
  {
   "cell_type": "code",
   "execution_count": 5,
   "id": "1a35cf43-1af1-4bf1-8ff5-54022c661960",
   "metadata": {},
   "outputs": [
    {
     "data": {
      "text/plain": [
       "case_id                  0\n",
       "continent                0\n",
       "education_of_employee    0\n",
       "has_job_experience       0\n",
       "requires_job_training    0\n",
       "no_of_employees          0\n",
       "yr_of_estab              0\n",
       "region_of_employment     0\n",
       "prevailing_wage          0\n",
       "unit_of_wage             0\n",
       "full_time_position       0\n",
       "case_status              0\n",
       "dtype: int64"
      ]
     },
     "execution_count": 5,
     "metadata": {},
     "output_type": "execute_result"
    }
   ],
   "source": [
    "df.isna().sum()"
   ]
  },
  {
   "cell_type": "markdown",
   "id": "035e1670-29cb-4dc2-933c-868664eec260",
   "metadata": {},
   "source": [
    "**NO null values present**"
   ]
  },
  {
   "cell_type": "markdown",
   "id": "e68a4184-1f97-4331-8082-91b859e0666d",
   "metadata": {},
   "source": [
    "### 1.2 Check for duplicate records"
   ]
  },
  {
   "cell_type": "code",
   "execution_count": 6,
   "id": "d95306db-15ac-4ede-8fb9-b7da69e21ced",
   "metadata": {},
   "outputs": [
    {
     "data": {
      "text/plain": [
       "0"
      ]
     },
     "execution_count": 6,
     "metadata": {},
     "output_type": "execute_result"
    }
   ],
   "source": [
    "df.duplicated().sum()"
   ]
  },
  {
   "cell_type": "markdown",
   "id": "98848f8e-53dd-49c2-b124-ebef5bb65f7e",
   "metadata": {},
   "source": [
    "**NO record is duplicated**"
   ]
  },
  {
   "cell_type": "code",
   "execution_count": 7,
   "id": "268b8fa7-384d-4f17-a1a5-75b81a7509cb",
   "metadata": {},
   "outputs": [],
   "source": [
    "# Removeing case_id as it refer to unique id\n",
    "df.drop(columns=['case_id'],inplace =True)"
   ]
  },
  {
   "cell_type": "markdown",
   "id": "392eba8d-f658-4436-ae43-1f6f67f9c66e",
   "metadata": {},
   "source": [
    "## Feature Engineering"
   ]
  },
  {
   "cell_type": "markdown",
   "id": "17c9646e-e3a3-4ca8-b754-43b97144294f",
   "metadata": {},
   "source": [
    "### Feature Extraction"
   ]
  },
  {
   "cell_type": "code",
   "execution_count": 8,
   "id": "995a2406-5df2-48ad-a5e8-ac45ed695afa",
   "metadata": {},
   "outputs": [
    {
     "data": {
      "text/html": [
       "<div>\n",
       "<style scoped>\n",
       "    .dataframe tbody tr th:only-of-type {\n",
       "        vertical-align: middle;\n",
       "    }\n",
       "\n",
       "    .dataframe tbody tr th {\n",
       "        vertical-align: top;\n",
       "    }\n",
       "\n",
       "    .dataframe thead th {\n",
       "        text-align: right;\n",
       "    }\n",
       "</style>\n",
       "<table border=\"1\" class=\"dataframe\">\n",
       "  <thead>\n",
       "    <tr style=\"text-align: right;\">\n",
       "      <th></th>\n",
       "      <th>continent</th>\n",
       "      <th>education_of_employee</th>\n",
       "      <th>has_job_experience</th>\n",
       "      <th>requires_job_training</th>\n",
       "      <th>no_of_employees</th>\n",
       "      <th>yr_of_estab</th>\n",
       "      <th>region_of_employment</th>\n",
       "      <th>prevailing_wage</th>\n",
       "      <th>unit_of_wage</th>\n",
       "      <th>full_time_position</th>\n",
       "      <th>case_status</th>\n",
       "    </tr>\n",
       "  </thead>\n",
       "  <tbody>\n",
       "    <tr>\n",
       "      <th>0</th>\n",
       "      <td>Asia</td>\n",
       "      <td>High School</td>\n",
       "      <td>N</td>\n",
       "      <td>N</td>\n",
       "      <td>14513</td>\n",
       "      <td>2007</td>\n",
       "      <td>West</td>\n",
       "      <td>592.2029</td>\n",
       "      <td>Hour</td>\n",
       "      <td>Y</td>\n",
       "      <td>Denied</td>\n",
       "    </tr>\n",
       "    <tr>\n",
       "      <th>1</th>\n",
       "      <td>Asia</td>\n",
       "      <td>Master's</td>\n",
       "      <td>Y</td>\n",
       "      <td>N</td>\n",
       "      <td>2412</td>\n",
       "      <td>2002</td>\n",
       "      <td>Northeast</td>\n",
       "      <td>83425.6500</td>\n",
       "      <td>Year</td>\n",
       "      <td>Y</td>\n",
       "      <td>Certified</td>\n",
       "    </tr>\n",
       "    <tr>\n",
       "      <th>2</th>\n",
       "      <td>Asia</td>\n",
       "      <td>Bachelor's</td>\n",
       "      <td>N</td>\n",
       "      <td>Y</td>\n",
       "      <td>44444</td>\n",
       "      <td>2008</td>\n",
       "      <td>West</td>\n",
       "      <td>122996.8600</td>\n",
       "      <td>Year</td>\n",
       "      <td>Y</td>\n",
       "      <td>Denied</td>\n",
       "    </tr>\n",
       "    <tr>\n",
       "      <th>3</th>\n",
       "      <td>Asia</td>\n",
       "      <td>Bachelor's</td>\n",
       "      <td>N</td>\n",
       "      <td>N</td>\n",
       "      <td>98</td>\n",
       "      <td>1897</td>\n",
       "      <td>West</td>\n",
       "      <td>83434.0300</td>\n",
       "      <td>Year</td>\n",
       "      <td>Y</td>\n",
       "      <td>Denied</td>\n",
       "    </tr>\n",
       "    <tr>\n",
       "      <th>4</th>\n",
       "      <td>Africa</td>\n",
       "      <td>Master's</td>\n",
       "      <td>Y</td>\n",
       "      <td>N</td>\n",
       "      <td>1082</td>\n",
       "      <td>2005</td>\n",
       "      <td>South</td>\n",
       "      <td>149907.3900</td>\n",
       "      <td>Year</td>\n",
       "      <td>Y</td>\n",
       "      <td>Certified</td>\n",
       "    </tr>\n",
       "  </tbody>\n",
       "</table>\n",
       "</div>"
      ],
      "text/plain": [
       "  continent education_of_employee has_job_experience requires_job_training  \\\n",
       "0      Asia           High School                  N                     N   \n",
       "1      Asia              Master's                  Y                     N   \n",
       "2      Asia            Bachelor's                  N                     Y   \n",
       "3      Asia            Bachelor's                  N                     N   \n",
       "4    Africa              Master's                  Y                     N   \n",
       "\n",
       "   no_of_employees  yr_of_estab region_of_employment  prevailing_wage  \\\n",
       "0            14513         2007                 West         592.2029   \n",
       "1             2412         2002            Northeast       83425.6500   \n",
       "2            44444         2008                 West      122996.8600   \n",
       "3               98         1897                 West       83434.0300   \n",
       "4             1082         2005                South      149907.3900   \n",
       "\n",
       "  unit_of_wage full_time_position case_status  \n",
       "0         Hour                  Y      Denied  \n",
       "1         Year                  Y   Certified  \n",
       "2         Year                  Y      Denied  \n",
       "3         Year                  Y      Denied  \n",
       "4         Year                  Y   Certified  "
      ]
     },
     "execution_count": 8,
     "metadata": {},
     "output_type": "execute_result"
    }
   ],
   "source": [
    "df.head()"
   ]
  },
  {
   "cell_type": "code",
   "execution_count": 9,
   "id": "6408c478-5303-4c81-833b-e115aacef5c4",
   "metadata": {},
   "outputs": [
    {
     "data": {
      "text/plain": [
       "2025"
      ]
     },
     "execution_count": 9,
     "metadata": {},
     "output_type": "execute_result"
    }
   ],
   "source": [
    "# using yr_of_estab we can find how old employer's company is\n",
    "from  datetime import date\n",
    "\n",
    "today_date = date.today()\n",
    "current_year = today_date.year\n",
    "current_year"
   ]
  },
  {
   "cell_type": "code",
   "execution_count": 10,
   "id": "e1a25086-a5e7-4d8e-a58b-49122009355f",
   "metadata": {},
   "outputs": [
    {
     "data": {
      "text/plain": [
       "0         18\n",
       "1         23\n",
       "2         17\n",
       "3        128\n",
       "4         20\n",
       "        ... \n",
       "25475     17\n",
       "25476     19\n",
       "25477    115\n",
       "25478    138\n",
       "25479     65\n",
       "Name: company_age, Length: 25480, dtype: int64"
      ]
     },
     "execution_count": 10,
     "metadata": {},
     "output_type": "execute_result"
    }
   ],
   "source": [
    "df['company_age'] = current_year - df['yr_of_estab'] \n",
    "df['company_age']"
   ]
  },
  {
   "cell_type": "code",
   "execution_count": 11,
   "id": "f6c0a2a6-8f50-47f3-a593-745f3992be8f",
   "metadata": {},
   "outputs": [],
   "source": [
    "# now we can drop yr_of_estab ,as company_age convey same information\n",
    "df.drop(columns=['yr_of_estab'],inplace =True)"
   ]
  },
  {
   "cell_type": "markdown",
   "id": "fe870992-482d-4fdd-b1cd-feddfd48a875",
   "metadata": {},
   "source": [
    "### Type of Features"
   ]
  },
  {
   "cell_type": "markdown",
   "id": "0f3c2209-3797-4115-928a-7f11637334eb",
   "metadata": {},
   "source": [
    "##### Numerical Features"
   ]
  },
  {
   "cell_type": "code",
   "execution_count": 12,
   "id": "43cf7292-88f5-4637-a365-d4018432913c",
   "metadata": {},
   "outputs": [
    {
     "data": {
      "text/plain": [
       "['no_of_employees', 'prevailing_wage', 'company_age']"
      ]
     },
     "execution_count": 12,
     "metadata": {},
     "output_type": "execute_result"
    }
   ],
   "source": [
    "numerical_features = [feature for feature in df.columns if df[feature].dtype != 'O']\n",
    "numerical_features"
   ]
  },
  {
   "cell_type": "code",
   "execution_count": 13,
   "id": "78d6c4b0-18a9-4fa0-8d9b-ec7a5b4fd000",
   "metadata": {},
   "outputs": [
    {
     "name": "stdout",
     "output_type": "stream",
     "text": [
      "contineous_features : ['no_of_employees', 'prevailing_wage', 'company_age']\n",
      "descrete_features : []\n"
     ]
    }
   ],
   "source": [
    "# contineous feature\n",
    "contineous_features = [feature for feature in numerical_features if len(df[feature].value_counts()) > 25]\n",
    "descrete_features = [feature for feature in numerical_features if len(df[feature].value_counts()) <= 25]\n",
    "print(f'contineous_features : {contineous_features}')\n",
    "print(f'descrete_features : {descrete_features}')"
   ]
  },
  {
   "cell_type": "markdown",
   "id": "f774f14d-b499-4229-bf96-661b097bbe1c",
   "metadata": {},
   "source": [
    "#### Categorical Features"
   ]
  },
  {
   "cell_type": "code",
   "execution_count": 14,
   "id": "0147d8b3-0256-4462-b95d-2ee34baf3d8a",
   "metadata": {},
   "outputs": [
    {
     "data": {
      "text/plain": [
       "['continent',\n",
       " 'education_of_employee',\n",
       " 'has_job_experience',\n",
       " 'requires_job_training',\n",
       " 'region_of_employment',\n",
       " 'unit_of_wage',\n",
       " 'full_time_position',\n",
       " 'case_status']"
      ]
     },
     "execution_count": 14,
     "metadata": {},
     "output_type": "execute_result"
    }
   ],
   "source": [
    "categorical_features = [feature for feature in df.columns if df[feature].dtype == 'O']\n",
    "categorical_features"
   ]
  },
  {
   "cell_type": "markdown",
   "id": "af529343-1767-45a5-9348-6a095fd09f87",
   "metadata": {},
   "source": [
    "## Split dataset into X(Independet features),y(dependent features)"
   ]
  },
  {
   "cell_type": "code",
   "execution_count": 15,
   "id": "6e712e41-0e73-4b2e-9651-a57d0cf02508",
   "metadata": {},
   "outputs": [
    {
     "data": {
      "text/plain": [
       "((25480, 10), (25480,))"
      ]
     },
     "execution_count": 15,
     "metadata": {},
     "output_type": "execute_result"
    }
   ],
   "source": [
    "X = df.drop(columns=['case_status'])\n",
    "y= df['case_status']\n",
    "X.shape,y.shape"
   ]
  },
  {
   "cell_type": "markdown",
   "id": "1980a12e-774f-4875-8e30-554877339704",
   "metadata": {},
   "source": [
    "#### Manually encoding `case_status`"
   ]
  },
  {
   "cell_type": "code",
   "execution_count": 16,
   "id": "b61099fb-dad1-454f-9fdf-28a9a08418a7",
   "metadata": {},
   "outputs": [
    {
     "data": {
      "text/plain": [
       "case_status\n",
       "Certified    17018\n",
       "Denied        8462\n",
       "Name: count, dtype: int64"
      ]
     },
     "execution_count": 16,
     "metadata": {},
     "output_type": "execute_result"
    }
   ],
   "source": [
    "y.value_counts()"
   ]
  },
  {
   "cell_type": "code",
   "execution_count": 17,
   "id": "e2c33281-8c61-40e9-9897-27b265122770",
   "metadata": {},
   "outputs": [],
   "source": [
    "# Denied->1 ,certified -> 0\n",
    "y = np.where(y=='Denied',1,0)"
   ]
  },
  {
   "cell_type": "code",
   "execution_count": 18,
   "id": "e0654be4-9864-49bd-9258-91de3800f155",
   "metadata": {},
   "outputs": [
    {
     "data": {
      "text/plain": [
       "array([1, 0, 1, ..., 0, 0, 0])"
      ]
     },
     "execution_count": 18,
     "metadata": {},
     "output_type": "execute_result"
    }
   ],
   "source": [
    "y"
   ]
  },
  {
   "cell_type": "markdown",
   "id": "68838f20-c541-4c49-a886-7722d269aa28",
   "metadata": {},
   "source": [
    "## Feature Transformation"
   ]
  },
  {
   "cell_type": "code",
   "execution_count": 19,
   "id": "aa802b94-4ca5-4206-adb9-aaabb72b5005",
   "metadata": {},
   "outputs": [
    {
     "data": {
      "image/png": "[encoded data removed]",
      "text/plain": [
       "<Figure size 1200x600 with 3 Axes>"
      ]
     },
     "metadata": {},
     "output_type": "display_data"
    }
   ],
   "source": [
    "plt.figure(figsize=(12,6))\n",
    "for i, col in enumerate(numerical_features):\n",
    "    plt.subplot(2,2,i+1)\n",
    "    sns.histplot(x=X[col],color='indianred')\n",
    "    plt.xlabel(col)\n",
    "    plt.tight_layout()"
   ]
  },
  {
   "cell_type": "markdown",
   "id": "a156c8a5-193e-4e5e-878d-f5d7daa94633",
   "metadata": {},
   "source": [
    "* No of employees and Copmany age column is skewed\n",
    "* Apply a power transform featurewise to make data more Gaussian-like.\n",
    "\n",
    "Power transforms are a family of parametric, monotonic transformations that are applied to make data more Gaussian-like. This is useful for modeling issues related to heteroscedasticity (non-constant variance), or other situations where normality is desired.\n",
    "\n",
    "Currently, PowerTransformer supports the Box-Cox transform and the Yeo-Johnson transform."
   ]
  },
  {
   "cell_type": "markdown",
   "id": "98d5fefc-1807-479e-828e-35de9b4ea242",
   "metadata": {},
   "source": [
    "**Checking Skewness**\n",
    "\n",
    "What is skewness : Skewness refers to a distortion or asymmetry that deviates from the symmetrical bell curve, or normal distribution, in a set of data. If the curve is shifted to the left or to the right, it is said to be skewed. Skewness can be quantified as a representation of the extent to which a given distribution varies from a normal distribution. A normal distribution has a skew of zero"
   ]
  },
  {
   "cell_type": "code",
   "execution_count": 20,
   "id": "5c5d7980-5857-41b4-9846-e1ee82e1fcc0",
   "metadata": {},
   "outputs": [
    {
     "data": {
      "text/plain": [
       "no_of_employees    12.265260\n",
       "prevailing_wage     0.755776\n",
       "company_age         2.037301\n",
       "dtype: float64"
      ]
     },
     "execution_count": 20,
     "metadata": {},
     "output_type": "execute_result"
    }
   ],
   "source": [
    "X[contineous_features].skew(axis = 0 ,skipna=True)"
   ]
  },
  {
   "cell_type": "markdown",
   "id": "fbdf1db3-0386-413b-8427-70a4c0aec290",
   "metadata": {},
   "source": [
    "* Positiviely Skewed : company_age, no_of_employees.\n",
    "* We can handle outliers and then check the skewness."
   ]
  },
  {
   "cell_type": "markdown",
   "id": "d10b47c0-7c83-4b19-a613-107146d8ccde",
   "metadata": {},
   "source": [
    "## Apply Power Transformer to Check if it can reduces the outliers¶"
   ]
  },
  {
   "cell_type": "code",
   "execution_count": 21,
   "id": "366873c3-11a3-4b10-814b-d3b9301a9ce6",
   "metadata": {},
   "outputs": [],
   "source": [
    "from sklearn.preprocessing import PowerTransformer\n",
    "pt = PowerTransformer(method ='yeo-johnson')\n",
    "transform_features = ['company_age','no_of_employees']\n",
    "X_copy = pt.fit_transform(X[transform_features])"
   ]
  },
  {
   "cell_type": "code",
   "execution_count": 22,
   "id": "ee3afc0f-4c26-405c-91ad-33bc7ee82132",
   "metadata": {},
   "outputs": [],
   "source": [
    "X_copy = pd.DataFrame(X_copy, columns=transform_features)"
   ]
  },
  {
   "cell_type": "code",
   "execution_count": 25,
   "id": "5c03f827-ae2f-47f3-8802-094762632170",
   "metadata": {},
   "outputs": [
    {
     "data": {
      "image/png": "[encoded data removed]",
      "text/plain": [
       "<Figure size 1200x500 with 2 Axes>"
      ]
     },
     "metadata": {},
     "output_type": "display_data"
    }
   ],
   "source": [
    "plt.figure(figsize=(12, 5))\n",
    "for i, col in enumerate(transform_features):\n",
    "    plt.subplot(1, 2, i+1)\n",
    "    sns.histplot(x=X_copy[col], color='indianred')\n",
    "    plt.xlabel(col)\n",
    "    plt.tight_layout()"
   ]
  },
  {
   "cell_type": "markdown",
   "id": "0daa4fb9-309c-43f8-b881-61329bc86a4c",
   "metadata": {},
   "source": [
    "**Checking Skewness**"
   ]
  },
  {
   "cell_type": "code",
   "execution_count": 26,
   "id": "3924e0ef-7811-4de6-9d5e-391693093799",
   "metadata": {},
   "outputs": [
    {
     "data": {
      "text/plain": [
       "company_age        0.112260\n",
       "no_of_employees    0.399339\n",
       "dtype: float64"
      ]
     },
     "execution_count": 26,
     "metadata": {},
     "output_type": "execute_result"
    }
   ],
   "source": [
    "X_copy.skew(axis=0, skipna=True)"
   ]
  },
  {
   "cell_type": "markdown",
   "id": "cc92329c-1add-4f1a-ba19-18c3e8d8dca8",
   "metadata": {},
   "source": [
    "* Here Yeo-Johnson is used and it supports both positive or negative data for transformation.\n",
    "* So Power Transformer with yeo-johnson can be used."
   ]
  },
  {
   "cell_type": "code",
   "execution_count": 28,
   "id": "3aa4212b-9e4b-4ada-a4c6-c8e2f1e96c28",
   "metadata": {},
   "outputs": [
    {
     "name": "stdout",
     "output_type": "stream",
     "text": [
      "continent : 6\n",
      "education_of_employee : 4\n",
      "has_job_experience : 2\n",
      "requires_job_training : 2\n",
      "region_of_employment : 5\n",
      "unit_of_wage : 4\n",
      "full_time_position : 2\n",
      "case_status : 2\n"
     ]
    }
   ],
   "source": [
    "for feature in categorical_features:\n",
    "    print(feature,':', df[feature].nunique())"
   ]
  },
  {
   "cell_type": "markdown",
   "id": "5364e4f3-cbd3-4281-8590-7b9138b8b2ae",
   "metadata": {},
   "source": [
    "## Feature Encoding and Scaling"
   ]
  },
  {
   "cell_type": "markdown",
   "id": "b06aee45-49d0-4d5a-85ab-1c5951dfea99",
   "metadata": {},
   "source": [
    " **One Hot Encoding for Columns which had lesser unique values and not ordinal**\n",
    "* One hot encoding is a process by which categorical variables are converted into a form that could be provided to ML algorithms to do a better job in prediction.\n",
    "\n",
    "**Ordinal Encoding for Columns which has many unique categories** \n",
    "* Ordinal encoding is used here as label encoder is supported for column transformer.\n",
    "* Ordinal encoding is used for Ordinal Variable. Variable comprises a finite set of discrete values with a ranked ordering between values.\n",
    "\n",
    "**Standard Scaler** \n",
    "* Standardize features by removing the mean and scaling to unit variance.\n",
    "\n",
    "**Power Transformer**\n",
    "* Power transforms are a technique for transforming numerical input or output variables to have a Gaussian or more-Gaussian-like probability distribution."
   ]
  },
  {
   "cell_type": "code",
   "execution_count": null,
   "id": "f2f46bbe-71d0-4e7f-a178-376b0914381c",
   "metadata": {},
   "outputs": [],
   "source": []
  }
 ],
 "metadata": {
  "kernelspec": {
   "display_name": "Python 3 (ipykernel)",
   "language": "python",
   "name": "python3"
  },
  "language_info": {
   "codemirror_mode": {
    "name": "ipython",
    "version": 3
   },
   "file_extension": ".py",
   "mimetype": "text/x-python",
   "name": "python",
   "nbconvert_exporter": "python",
   "pygments_lexer": "ipython3",
   "version": "3.12.4"
  }
 },
 "nbformat": 4,
 "nbformat_minor": 5
}
